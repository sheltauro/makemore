{
  "nbformat": 4,
  "nbformat_minor": 0,
  "metadata": {
    "colab": {
      "provenance": [],
      "authorship_tag": "ABX9TyO+HXPh7HRXiLAnIPrWTRF6",
      "include_colab_link": true
    },
    "kernelspec": {
      "name": "python3",
      "display_name": "Python 3"
    },
    "language_info": {
      "name": "python"
    }
  },
  "cells": [
    {
      "cell_type": "markdown",
      "metadata": {
        "id": "view-in-github",
        "colab_type": "text"
      },
      "source": [
        "<a href=\"https://colab.research.google.com/github/sheltauro/makemore/blob/main/bigrams.ipynb\" target=\"_parent\"><img src=\"https://colab.research.google.com/assets/colab-badge.svg\" alt=\"Open In Colab\"/></a>"
      ]
    },
    {
      "cell_type": "code",
      "execution_count": 1,
      "metadata": {
        "id": "VN93Kaenr8IV"
      },
      "outputs": [],
      "source": [
        "import requests\n",
        "read_data = requests.get('https://raw.githubusercontent.com/sheltauro/makemore/main/data/names.txt').content\n",
        "read_data = read_data.splitlines()"
      ]
    },
    {
      "cell_type": "code",
      "source": [
        "words = [str(rd, 'UTF-8') for rd in read_data]"
      ],
      "metadata": {
        "id": "vsfbq5wfsYFi"
      },
      "execution_count": 2,
      "outputs": []
    },
    {
      "cell_type": "code",
      "source": [
        "min(len(w) for w in words)"
      ],
      "metadata": {
        "colab": {
          "base_uri": "https://localhost:8080/"
        },
        "id": "a9HUMKSwvKZW",
        "outputId": "217ae0bd-fe68-4d0f-b03a-651a6bc276a3"
      },
      "execution_count": 3,
      "outputs": [
        {
          "output_type": "execute_result",
          "data": {
            "text/plain": [
              "2"
            ]
          },
          "metadata": {},
          "execution_count": 3
        }
      ]
    },
    {
      "cell_type": "code",
      "source": [
        "max(len(w) for w in words)"
      ],
      "metadata": {
        "colab": {
          "base_uri": "https://localhost:8080/"
        },
        "id": "ZYDBScbJvUT-",
        "outputId": "31fe766e-e1a0-4d2f-f4f9-3665fdb4f55b"
      },
      "execution_count": 4,
      "outputs": [
        {
          "output_type": "execute_result",
          "data": {
            "text/plain": [
              "15"
            ]
          },
          "metadata": {},
          "execution_count": 4
        }
      ]
    },
    {
      "cell_type": "code",
      "source": [
        "b = {}\n",
        "for w in words:\n",
        "  # Create an array with a special start token. This will allow us to extract additional info about the first and last element.\n",
        "  chs = ['<S>'] + list(w) + ['<E>']\n",
        "  for ch1, ch2 in zip(chs, chs[1:]):\n",
        "    bigram = (ch1, ch2)\n",
        "    b[bigram] = b.get(bigram, 0) + 1"
      ],
      "metadata": {
        "id": "dHKFlGktxe-e"
      },
      "execution_count": 5,
      "outputs": []
    },
    {
      "cell_type": "code",
      "source": [
        "sorted(b.items(), key = lambda kv : kv[1], reverse = True)"
      ],
      "metadata": {
        "id": "ELWXAENBzNmR"
      },
      "execution_count": null,
      "outputs": []
    },
    {
      "cell_type": "code",
      "source": [
        "import torch"
      ],
      "metadata": {
        "id": "I-cCmSKNz7tZ"
      },
      "execution_count": 7,
      "outputs": []
    },
    {
      "cell_type": "code",
      "source": [
        "N = torch.zeros((27, 27), dtype = torch.int32)"
      ],
      "metadata": {
        "id": "i9HLJ1Mmz9Dx"
      },
      "execution_count": 8,
      "outputs": []
    },
    {
      "cell_type": "code",
      "source": [
        "chars = sorted(list(set(''.join(words))))\n",
        "stoi = {s:i+1 for i,s in enumerate(chars)}\n",
        "stoi['.'] = 0\n",
        "itos = {i:s for s,i in stoi.items()}"
      ],
      "metadata": {
        "id": "LlvMDGJl0d58"
      },
      "execution_count": 9,
      "outputs": []
    },
    {
      "cell_type": "code",
      "source": [
        "for w in words:\n",
        "  # Create an array with a special start/end token. This will allow us to extract additional info about the first and last element.\n",
        "  chs = ['.'] + list(w) + ['.']\n",
        "  for ch1, ch2 in zip(chs, chs[1:]):\n",
        "    ix1 = stoi[ch1]\n",
        "    ix2 = stoi[ch2]\n",
        "    N[ix1, ix2] += 1"
      ],
      "metadata": {
        "id": "O_fajvY10X9e"
      },
      "execution_count": 10,
      "outputs": []
    },
    {
      "cell_type": "code",
      "source": [
        "import matplotlib.pyplot as plt\n",
        "%matplotlib inline\n",
        "plt.imshow(N)"
      ],
      "metadata": {
        "colab": {
          "base_uri": "https://localhost:8080/",
          "height": 448
        },
        "id": "qLMZ4UHU1Vsk",
        "outputId": "64bc1553-3d6c-42c1-ca06-2c3c3d86f1fb"
      },
      "execution_count": 11,
      "outputs": [
        {
          "output_type": "execute_result",
          "data": {
            "text/plain": [
              "<matplotlib.image.AxesImage at 0x7f71286f7d60>"
            ]
          },
          "metadata": {},
          "execution_count": 11
        },
        {
          "output_type": "display_data",
          "data": {
            "text/plain": [
              "<Figure size 640x480 with 1 Axes>"
            ],
            "image/png": "[encoded data removed]"
          },
          "metadata": {}
        }
      ]
    },
    {
      "cell_type": "code",
      "source": [
        "p = N[0].float()\n",
        "p = p / p.sum()\n",
        "p"
      ],
      "metadata": {
        "colab": {
          "base_uri": "https://localhost:8080/"
        },
        "id": "KlAnID4229kG",
        "outputId": "85d0ab48-2ce0-4892-ce58-66de8a13e6f2"
      },
      "execution_count": 12,
      "outputs": [
        {
          "output_type": "execute_result",
          "data": {
            "text/plain": [
              "tensor([0.0000, 0.1377, 0.0408, 0.0481, 0.0528, 0.0478, 0.0130, 0.0209, 0.0273,\n",
              "        0.0184, 0.0756, 0.0925, 0.0491, 0.0792, 0.0358, 0.0123, 0.0161, 0.0029,\n",
              "        0.0512, 0.0642, 0.0408, 0.0024, 0.0117, 0.0096, 0.0042, 0.0167, 0.0290])"
            ]
          },
          "metadata": {},
          "execution_count": 12
        }
      ]
    },
    {
      "cell_type": "code",
      "source": [
        "g = torch.Generator().manual_seed(2147483647)\n",
        "torch.multinomial(p, num_samples=1, replacement=True, generator=g)"
      ],
      "metadata": {
        "colab": {
          "base_uri": "https://localhost:8080/"
        },
        "id": "2gTl05aF4Eml",
        "outputId": "95705abc-1bc5-45b9-c847-7e660b6e3fe4"
      },
      "execution_count": 13,
      "outputs": [
        {
          "output_type": "execute_result",
          "data": {
            "text/plain": [
              "tensor([10])"
            ]
          },
          "metadata": {},
          "execution_count": 13
        }
      ]
    },
    {
      "cell_type": "code",
      "source": [
        "# We can do model smoothing by adding numbers to every element of the N matrix\n",
        "P = N.float()\n",
        "P /= P.sum(1, keepdim=True)\n",
        "# Read broadcasting semantics for torch"
      ],
      "metadata": {
        "id": "QCL0o72h79tq"
      },
      "execution_count": 14,
      "outputs": []
    },
    {
      "cell_type": "code",
      "source": [
        "g = torch.Generator().manual_seed(2147483647)\n",
        "\n",
        "for i in range(5):\n",
        "  out = []\n",
        "  ix = 0\n",
        "  while True:\n",
        "    p = P[ix]\n",
        "    ix = torch.multinomial(p, num_samples=1, replacement=True, generator=g).item()\n",
        "    out.append(itos[ix])\n",
        "    if ix == 0:\n",
        "      break\n",
        "  print(''.join(out))"
      ],
      "metadata": {
        "colab": {
          "base_uri": "https://localhost:8080/"
        },
        "id": "kTv1sEFC5xjp",
        "outputId": "3ad0cf57-3ea3-440f-e5d4-e56a0527602d"
      },
      "execution_count": 15,
      "outputs": [
        {
          "output_type": "stream",
          "name": "stdout",
          "text": [
            "junide.\n",
            "janasah.\n",
            "p.\n",
            "cony.\n",
            "a.\n"
          ]
        }
      ]
    },
    {
      "cell_type": "code",
      "source": [
        "log_likelihood = 0.0\n",
        "n = 0\n",
        "for w in words:\n",
        "  # Create an array with a special start/end token. This will allow us to extract additional info about the first and last element.\n",
        "  chs = ['.'] + list(w) + ['.']\n",
        "  for ch1, ch2 in zip(chs, chs[1:]):\n",
        "    ix1 = stoi[ch1]\n",
        "    ix2 = stoi[ch2]\n",
        "    prob = P[ix1, ix2]\n",
        "    logprob = torch.log(prob)\n",
        "    log_likelihood += logprob\n",
        "    n += 1\n",
        "    # print(f'{ch1}{ch2}: {prob:.4f} {logprob:.4f}')\n",
        "\n",
        "nll =-log_likelihood\n",
        "print(f'{nll=}')\n",
        "print(f'{nll/n=}')"
      ],
      "metadata": {
        "colab": {
          "base_uri": "https://localhost:8080/"
        },
        "id": "Pwz9CUCZ6VCO",
        "outputId": "e512fbfd-699e-483a-b465-d7b4dec80510"
      },
      "execution_count": 74,
      "outputs": [
        {
          "output_type": "stream",
          "name": "stdout",
          "text": [
            "nll=tensor(559891.7500)\n",
            "nll/n=tensor(2.4541)\n"
          ]
        }
      ]
    },
    {
      "cell_type": "code",
      "source": [
        "# likelihood :- Product of probabilities\n",
        "# log likelihood:- Log of the product of probabilities = Sum of log of probabilities\n",
        "# log(a*b*c) = log(a) + log(b) + log(c)\n",
        "# We'd prefer negative log likelihood"
      ],
      "metadata": {
        "id": "zv8W8_W8I8ln"
      },
      "execution_count": 17,
      "outputs": []
    },
    {
      "cell_type": "markdown",
      "source": [
        "##Neural network based model"
      ],
      "metadata": {
        "id": "LwFTsLhsMVHD"
      }
    },
    {
      "cell_type": "code",
      "source": [
        "# create the training set of bigrams\n",
        "xs, ys = [], []\n",
        "\n",
        "for w in words[:1]:\n",
        "  # Create an array with a special start/end token. This will allow us to extract additional info about the first and last element.\n",
        "  chs = ['.'] + list(w) + ['.']\n",
        "  for ch1, ch2 in zip(chs, chs[1:]):\n",
        "    ix1 = stoi[ch1]\n",
        "    ix2 = stoi[ch2]\n",
        "    xs.append(ix1)\n",
        "    ys.append(ix2)\n",
        "\n",
        "# Beware of torch.tensor && torch.Tensor(this is a class)\n",
        "xs = torch.tensor(xs)\n",
        "ys = torch.tensor(ys) "
      ],
      "metadata": {
        "id": "QcSQLtW5Mobj"
      },
      "execution_count": 18,
      "outputs": []
    },
    {
      "cell_type": "code",
      "source": [
        "print(xs, ys)"
      ],
      "metadata": {
        "colab": {
          "base_uri": "https://localhost:8080/"
        },
        "id": "525MrO_XNFCx",
        "outputId": "d74a56e6-de6a-4898-9501-8404c2913b48"
      },
      "execution_count": 19,
      "outputs": [
        {
          "output_type": "stream",
          "name": "stdout",
          "text": [
            "tensor([ 0,  5, 13, 13,  1]) tensor([ 5, 13, 13,  1,  0])\n"
          ]
        }
      ]
    },
    {
      "cell_type": "code",
      "source": [
        "import torch.nn.functional as F"
      ],
      "metadata": {
        "id": "8s2sA_7FjQRO"
      },
      "execution_count": 37,
      "outputs": []
    },
    {
      "cell_type": "code",
      "source": [
        "# create the dataset\n",
        "\n",
        "xs, ys = [], []\n",
        "for w in words:\n",
        "  # Create an array with a special start/end token. This will allow us to extract additional info about the first and last element.\n",
        "  chs = ['.'] + list(w) + ['.']\n",
        "  for ch1, ch2 in zip(chs, chs[1:]):\n",
        "    ix1 = stoi[ch1]\n",
        "    ix2 = stoi[ch2]\n",
        "    xs.append(ix1)\n",
        "    ys.append(ix2)\n",
        "xs = torch.tensor(xs)\n",
        "ys = torch.tensor(ys)\n",
        "\n",
        "num = xs.nelement()\n",
        "print('number of examples: ', num)\n",
        "\n",
        "g = torch.Generator().manual_seed(2147483647)\n",
        "# By passing in requires_grad, we tell pytorch that we want to calculate the gradient.\n",
        "W = torch.randn((27, 27), generator=g, requires_grad=True)"
      ],
      "metadata": {
        "colab": {
          "base_uri": "https://localhost:8080/"
        },
        "id": "FAYhwBgkv_0F",
        "outputId": "7d7a2f77-4b31-49ca-d4de-3f869e99158e"
      },
      "execution_count": 70,
      "outputs": [
        {
          "output_type": "stream",
          "name": "stdout",
          "text": [
            "number of examples:  228146\n"
          ]
        }
      ]
    },
    {
      "cell_type": "code",
      "source": [
        "# gradient descent.\n",
        "for k in range(200):\n",
        "  # forward pass\n",
        "  xenc = F.one_hot(xs, num_classes=27).float() # input to the network: one-hot encoding\n",
        "  logits = (xenc @ W) # log-counts\n",
        "  counts = logits.exp()\n",
        "  probs = counts / counts.sum(1, keepdims=True) # probabilities for next character\n",
        "  # btw: The last 2 lines here are together called softmax.\n",
        "  loss = -probs[torch.arange(num), ys].log().mean() + 0.01*(W**2).mean() # Added regularization loss\n",
        "  print(loss.item())\n",
        "\n",
        "  # backward pass\n",
        "  W.grad = None # set to zero the gradient.\n",
        "  loss.backward()\n",
        "\n",
        "  # update\n",
        "  W.data += -50 * W.grad"
      ],
      "metadata": {
        "id": "w7Eo1vvqvsWi"
      },
      "execution_count": null,
      "outputs": []
    }
  ]
}