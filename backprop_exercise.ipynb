{
  "nbformat": 4,
  "nbformat_minor": 0,
  "metadata": {
    "colab": {
      "provenance": [],
      "authorship_tag": "ABX9TyP6D89Kmppn4zsq+QS6kZKs",
      "include_colab_link": true
    },
    "kernelspec": {
      "name": "python3",
      "display_name": "Python 3"
    },
    "language_info": {
      "name": "python"
    }
  },
  "cells": [
    {
      "cell_type": "markdown",
      "metadata": {
        "id": "view-in-github",
        "colab_type": "text"
      },
      "source": [
        "<a href=\"https://colab.research.google.com/github/sheltauro/makemore/blob/main/backprop_exercise.ipynb\" target=\"_parent\"><img src=\"https://colab.research.google.com/assets/colab-badge.svg\" alt=\"Open In Colab\"/></a>"
      ]
    },
    {
      "cell_type": "code",
      "execution_count": 3,
      "metadata": {
        "id": "PKXyqQlwwyYx"
      },
      "outputs": [],
      "source": [
        "import requests\n",
        "import torch\n",
        "import torch.nn.functional as F\n",
        "import matplotlib.pyplot as plt\n",
        "%matplotlib inline"
      ]
    },
    {
      "cell_type": "code",
      "source": [
        "read_data = requests.get('https://raw.githubusercontent.com/sheltauro/makemore/main/data/names.txt').content\n",
        "read_data = read_data.splitlines()\n",
        "words = [str(rd, 'UTF-8') for rd in read_data]"
      ],
      "metadata": {
        "id": "lIEGf1jaxAcY"
      },
      "execution_count": 4,
      "outputs": []
    },
    {
      "cell_type": "code",
      "source": [
        "chars = sorted(list(set(''.join(words))))\n",
        "stoi = {s:i+1 for i,s in enumerate(chars)}\n",
        "stoi['.'] = 0\n",
        "itos = {i:s for s,i in stoi.items()}\n",
        "vocab_size = len(itos)\n",
        "print(itos)"
      ],
      "metadata": {
        "colab": {
          "base_uri": "https://localhost:8080/"
        },
        "id": "COYDR_hxxA7E",
        "outputId": "18b5e32a-ec0a-4091-a593-f6d78494327a"
      },
      "execution_count": 5,
      "outputs": [
        {
          "output_type": "stream",
          "name": "stdout",
          "text": [
            "{1: 'a', 2: 'b', 3: 'c', 4: 'd', 5: 'e', 6: 'f', 7: 'g', 8: 'h', 9: 'i', 10: 'j', 11: 'k', 12: 'l', 13: 'm', 14: 'n', 15: 'o', 16: 'p', 17: 'q', 18: 'r', 19: 's', 20: 't', 21: 'u', 22: 'v', 23: 'w', 24: 'x', 25: 'y', 26: 'z', 0: '.'}\n"
          ]
        }
      ]
    },
    {
      "cell_type": "code",
      "source": [
        "# building the dataset\n",
        "\n",
        "block_size = 3 # context length: how many characters fo we take to predict the next one?\n",
        "\n",
        "def build_dataset(words):\n",
        "  X, Y = [], []\n",
        "\n",
        "  for w in words:\n",
        "    context = [0] * block_size\n",
        "    for ch in w + '.':\n",
        "      ix = stoi[ch]\n",
        "      X.append(context)\n",
        "      Y.append(ix)\n",
        "      # print(''.join(itos[i] for i in context), '--->', ch)\n",
        "      context = context[1:] + [ix] # crop and append\n",
        "  X = torch.tensor(X)\n",
        "  Y = torch.tensor(Y)\n",
        "  return X, Y\n",
        "\n",
        "import random\n",
        "random.seed(42)\n",
        "random.shuffle(words)\n",
        "n1 = int(0.8*len(words))\n",
        "n2 = int(0.9*len(words))\n",
        "\n",
        "Xtr, Ytr = build_dataset(words[:n1])\n",
        "Xval, Yval = build_dataset(words[n1:n2])\n",
        "Xte, Yte = build_dataset(words[n2:])"
      ],
      "metadata": {
        "id": "NBSx7lplxCp8"
      },
      "execution_count": 6,
      "outputs": []
    },
    {
      "cell_type": "code",
      "source": [
        "# ok biolerplate done, now we get to the action:"
      ],
      "metadata": {
        "id": "Sn8YTWd1xTCt"
      },
      "execution_count": 7,
      "outputs": []
    },
    {
      "cell_type": "code",
      "source": [
        "# utility function we will use later when comparing manual gradients to PyTorch gradients\n",
        "def cmp(s, dt, t):\n",
        "  ex = torch.all(dt == t.grad).item()\n",
        "  app = torch.allclose(dt, t.grad)\n",
        "  maxdiff = (dt - t.grad).abs().max().item()\n",
        "  print(f'{s:15s} | exact: {str(ex):5s} | approximate: {str(app):5s} | maxdiff: {maxdiff}')"
      ],
      "metadata": {
        "id": "90QPHBU0xm-c"
      },
      "execution_count": 8,
      "outputs": []
    },
    {
      "cell_type": "code",
      "source": [
        "n_embd = 10 # the dimensionality of the character embedding vectors\n",
        "n_hidden = 64 # the number of neurons in the hidden layer of the MLP\n",
        "\n",
        "g = torch.Generator().manual_seed(2147483647) # for reproducibility\n",
        "C  = torch.randn((vocab_size, n_embd),            generator=g)\n",
        "# Layer 1\n",
        "W1 = torch.randn((n_embd * block_size, n_hidden), generator=g) * (5/3)/((n_embd * block_size)**0.5)\n",
        "b1 = torch.randn(n_hidden,                        generator=g) * 0.1 # using b1 just for fun, it's useless because of BN\n",
        "# Layer 2\n",
        "W2 = torch.randn((n_hidden, vocab_size),          generator=g) * 0.1\n",
        "b2 = torch.randn(vocab_size,                      generator=g) * 0.1\n",
        "# BatchNorm parameters\n",
        "bngain = torch.randn((1, n_hidden))*0.1 + 1.0\n",
        "bnbias = torch.randn((1, n_hidden))*0.1\n",
        "\n",
        "# Note: I am initializating many of these parameters in non-standard ways\n",
        "# because sometimes initializating with e.g. all zeros could mask an incorrect\n",
        "# implementation of the backward pass.\n",
        "\n",
        "parameters = [C, W1, b1, W2, b2, bngain, bnbias]\n",
        "print(sum(p.nelement() for p in parameters)) # number of parameters in total\n",
        "for p in parameters:\n",
        "  p.requires_grad = True"
      ],
      "metadata": {
        "colab": {
          "base_uri": "https://localhost:8080/"
        },
        "id": "DAfzPcPQxp2u",
        "outputId": "e14de3e1-c751-41c3-c968-112461ba7186"
      },
      "execution_count": 9,
      "outputs": [
        {
          "output_type": "stream",
          "name": "stdout",
          "text": [
            "4137\n"
          ]
        }
      ]
    },
    {
      "cell_type": "code",
      "source": [
        "batch_size = 32\n",
        "n = batch_size # a shorter variable also, for convenience\n",
        "# construct a minibatch\n",
        "ix = torch.randint(0, Xtr.shape[0], (batch_size,), generator=g)\n",
        "Xb, Yb = Xtr[ix], Ytr[ix] # batch X,Y"
      ],
      "metadata": {
        "id": "VZ5G-3vUxtfS"
      },
      "execution_count": 10,
      "outputs": []
    },
    {
      "cell_type": "code",
      "source": [
        "# forward pass, \"chunkated\" into smaller steps that are possible to backward one at a time\n",
        "\n",
        "emb = C[Xb] # embed the characters into vectors\n",
        "embcat = emb.view(emb.shape[0], -1) # concatenate the vectors\n",
        "# Linear layer 1\n",
        "hprebn = embcat @ W1 + b1 # hidden layer pre-activation\n",
        "# BatchNorm layer\n",
        "bnmeani = 1/n*hprebn.sum(0, keepdim=True)\n",
        "bndiff = hprebn - bnmeani\n",
        "bndiff2 = bndiff**2\n",
        "bnvar = 1/(n-1)*(bndiff2).sum(0, keepdim=True) # note: Bessel's correction (dividing by n-1, not n)\n",
        "bnvar_inv = (bnvar + 1e-5)**-0.5\n",
        "bnraw = bndiff * bnvar_inv\n",
        "hpreact = bngain * bnraw + bnbias\n",
        "# Non-linearity\n",
        "h = torch.tanh(hpreact) # hidden layer\n",
        "# Linear layer 2\n",
        "logits = h @ W2 + b2 # output layer\n",
        "# cross entropy loss (same as F.cross_entropy(logits, Yb))\n",
        "logit_maxes = logits.max(1, keepdim=True).values\n",
        "norm_logits = logits - logit_maxes # subtract max for numerical stability\n",
        "counts = norm_logits.exp()\n",
        "counts_sum = counts.sum(1, keepdims=True)\n",
        "counts_sum_inv = counts_sum**-1 # if I use (1.0 / counts_sum) instead then I can't get backprop to be bit exact...\n",
        "probs = counts * counts_sum_inv\n",
        "logprobs = probs.log()\n",
        "loss = -logprobs[range(n), Yb].mean()\n",
        "\n",
        "# PyTorch backward pass\n",
        "for p in parameters:\n",
        "  p.grad = None\n",
        "for t in [logprobs, probs, counts, counts_sum, counts_sum_inv, # afaik there is no cleaner way\n",
        "          norm_logits, logit_maxes, logits, h, hpreact, bnraw,\n",
        "         bnvar_inv, bnvar, bndiff2, bndiff, hprebn, bnmeani,\n",
        "         embcat, emb]:\n",
        "  t.retain_grad()\n",
        "loss.backward()\n",
        "loss"
      ],
      "metadata": {
        "colab": {
          "base_uri": "https://localhost:8080/"
        },
        "id": "xzFKidARxwLu",
        "outputId": "e120e358-a99c-4491-da37-28abe0c032c2"
      },
      "execution_count": 11,
      "outputs": [
        {
          "output_type": "execute_result",
          "data": {
            "text/plain": [
              "tensor(3.3251, grad_fn=<NegBackward0>)"
            ]
          },
          "metadata": {},
          "execution_count": 11
        }
      ]
    },
    {
      "cell_type": "code",
      "source": [
        "# Exercise 1: backprop through the whole thing manually, \n",
        "# backpropagating through exactly all of the variables \n",
        "# as they are defined in the forward pass above, one by one\n",
        "\n",
        "dlogprobs = torch.zeros((32,27))\n",
        "dlogprobs[range(n), Yb] = -1 / n\n",
        "dprobs = (1.0 / probs) * dlogprobs\n",
        "dcounts_sum_inv = (counts * dprobs).sum(1, keepdim=True)\n",
        "dcounts_sum = (-1.0 * counts_sum**-2) * dcounts_sum_inv\n",
        "dcounts = (counts_sum_inv * dprobs) + 1 * dcounts_sum\n",
        "dnorm_logits = counts * dcounts\n",
        "dlogit_maxes = -dnorm_logits.sum(1, keepdim=True)\n",
        "dlogits = dnorm_logits + (F.one_hot(logits.max(1).indices, num_classes=logits.shape[1]) * dlogit_maxes)\n",
        "\n",
        "# Derive this in your notebook\n",
        "dh = dlogits @ W2.T\n",
        "dW2 = h.T @ dlogits\n",
        "db2 = dlogits.sum(0, keepdim=True)\n",
        "dhpreact = (1.0 - h**2) * dh\n",
        "dbngain = (bnraw * dhpreact).sum(0, keepdim=True)\n",
        "dbnbias = dhpreact.sum(0, keepdim=True)\n",
        "dbnraw = bngain * dhpreact\n",
        "dbnvar_inv = (bndiff * dbnraw).sum(0, keepdim=True)\n",
        "dbnvar = (-1.0/(2 * (bnvar + 1e-5)**1.5)) * dbnvar_inv\n",
        "dbndiff2 = torch.zeros_like(bndiff2) + (1.0 / (n - 1)) * dbnvar\n",
        "dbndiff = (bnvar_inv * dbnraw) + 2 * bndiff * dbndiff2\n",
        "dbnmeani = -dbndiff.sum(0, keepdim=True)\n",
        "dhprebn = dbndiff.clone() + (1.0 / n) * dbnmeani\n",
        "\n",
        "dembcat = dhprebn @ W1.T\n",
        "dW1 = embcat.T @ dhprebn\n",
        "db1 = dhprebn.sum(0, keepdim=True)\n",
        "demb = dembcat.view(dembcat.shape[0], block_size, -1)\n",
        "dC = torch.zeros(27, 10)\n",
        "for i in range(n):\n",
        "  for j in range(block_size):\n",
        "    dC[Xb[i, j]] += demb[i, j]\n",
        "\n",
        "\n",
        "cmp('logprobs', dlogprobs, logprobs)\n",
        "cmp('probs', dprobs, probs)\n",
        "cmp('counts_sum_inv', dcounts_sum_inv, counts_sum_inv)\n",
        "cmp('counts_sum', dcounts_sum, counts_sum)\n",
        "cmp('counts', dcounts, counts)\n",
        "cmp('norm_logits', dnorm_logits, norm_logits)\n",
        "cmp('logit_maxes', dlogit_maxes, logit_maxes)\n",
        "cmp('logits', dlogits, logits)\n",
        "cmp('h', dh, h)\n",
        "cmp('W2', dW2, W2)\n",
        "cmp('b2', db2, b2)\n",
        "cmp('hpreact', dhpreact, hpreact)\n",
        "cmp('bngain', dbngain, bngain)\n",
        "cmp('bnbias', dbnbias, bnbias)\n",
        "cmp('bnraw', dbnraw, bnraw)\n",
        "cmp('bnvar_inv', dbnvar_inv, bnvar_inv)\n",
        "cmp('bnvar', dbnvar, bnvar)\n",
        "cmp('bndiff2', dbndiff2, bndiff2)\n",
        "cmp('bndiff', dbndiff, bndiff)\n",
        "cmp('bnmeani', dbnmeani, bnmeani)\n",
        "cmp('hprebn', dhprebn, hprebn)\n",
        "cmp('embcat', dembcat, embcat)\n",
        "cmp('W1', dW1, W1)\n",
        "cmp('b1', db1, b1)\n",
        "cmp('emb', demb, emb)\n",
        "cmp('C', dC, C)"
      ],
      "metadata": {
        "colab": {
          "base_uri": "https://localhost:8080/"
        },
        "id": "OUI4CUazx4nA",
        "outputId": "e283dae1-0228-4c2c-c247-f8b4ee831a01"
      },
      "execution_count": 62,
      "outputs": [
        {
          "output_type": "stream",
          "name": "stdout",
          "text": [
            "logprobs        | exact: True  | approximate: True  | maxdiff: 0.0\n",
            "probs           | exact: True  | approximate: True  | maxdiff: 0.0\n",
            "counts_sum_inv  | exact: True  | approximate: True  | maxdiff: 0.0\n",
            "counts_sum      | exact: True  | approximate: True  | maxdiff: 0.0\n",
            "counts          | exact: True  | approximate: True  | maxdiff: 0.0\n",
            "norm_logits     | exact: True  | approximate: True  | maxdiff: 0.0\n",
            "logit_maxes     | exact: True  | approximate: True  | maxdiff: 0.0\n",
            "logits          | exact: True  | approximate: True  | maxdiff: 0.0\n",
            "h               | exact: True  | approximate: True  | maxdiff: 0.0\n",
            "W2              | exact: True  | approximate: True  | maxdiff: 0.0\n",
            "b2              | exact: True  | approximate: True  | maxdiff: 0.0\n",
            "hpreact         | exact: False | approximate: True  | maxdiff: 9.313225746154785e-10\n",
            "bngain          | exact: False | approximate: True  | maxdiff: 1.862645149230957e-09\n",
            "bnbias          | exact: False | approximate: True  | maxdiff: 3.725290298461914e-09\n",
            "bnraw           | exact: False | approximate: True  | maxdiff: 9.313225746154785e-10\n",
            "bnvar_inv       | exact: False | approximate: True  | maxdiff: 3.725290298461914e-09\n",
            "bnvar           | exact: False | approximate: True  | maxdiff: 6.984919309616089e-10\n",
            "bndiff2         | exact: False | approximate: True  | maxdiff: 2.1827872842550278e-11\n",
            "bndiff          | exact: False | approximate: True  | maxdiff: 9.313225746154785e-10\n",
            "bnmeani         | exact: False | approximate: True  | maxdiff: 3.725290298461914e-09\n",
            "hprebn          | exact: False | approximate: True  | maxdiff: 9.313225746154785e-10\n",
            "embcat          | exact: False | approximate: True  | maxdiff: 1.862645149230957e-09\n",
            "W1              | exact: False | approximate: True  | maxdiff: 7.450580596923828e-09\n",
            "b1              | exact: False | approximate: True  | maxdiff: 2.3283064365386963e-09\n",
            "emb             | exact: False | approximate: True  | maxdiff: 1.862645149230957e-09\n",
            "C               | exact: False | approximate: True  | maxdiff: 5.587935447692871e-09\n"
          ]
        }
      ]
    },
    {
      "cell_type": "code",
      "source": [
        "# Exercise 2: backprop through cross_entropy but all in one go\n",
        "# to complete this challenge look at the mathematical expression of the loss,\n",
        "# take the derivative, simplify the expression, and just write it out\n",
        "\n",
        "# forward pass\n",
        "\n",
        "# before:\n",
        "# logit_maxes = logits.max(1, keepdim=True).values\n",
        "# norm_logits = logits - logit_maxes # subtract max for numerical stability\n",
        "# counts = norm_logits.exp()\n",
        "# counts_sum = counts.sum(1, keepdims=True)\n",
        "# counts_sum_inv = counts_sum**-1 # if I use (1.0 / counts_sum) instead then I can't get backprop to be bit exact...\n",
        "# probs = counts * counts_sum_inv\n",
        "# logprobs = probs.log()\n",
        "# loss = -logprobs[range(n), Yb].mean()\n",
        "\n",
        "# now:\n",
        "loss_fast = F.cross_entropy(logits, Yb)\n",
        "print(loss_fast.item(), 'diff:', (loss_fast - loss).item())"
      ],
      "metadata": {
        "colab": {
          "base_uri": "https://localhost:8080/"
        },
        "id": "We_-qLFryBJi",
        "outputId": "0718d6f8-358c-4e7c-e893-74a1a192937d"
      },
      "execution_count": 14,
      "outputs": [
        {
          "output_type": "stream",
          "name": "stdout",
          "text": [
            "3.328936815261841 diff: 0.0\n"
          ]
        }
      ]
    },
    {
      "cell_type": "code",
      "source": [
        "logits.shape, counts_sum.shape"
      ],
      "metadata": {
        "colab": {
          "base_uri": "https://localhost:8080/"
        },
        "id": "nxpOcz1KOe42",
        "outputId": "6dfe150b-209b-4dbd-f2c7-c279630dfafe"
      },
      "execution_count": 65,
      "outputs": [
        {
          "output_type": "execute_result",
          "data": {
            "text/plain": [
              "(torch.Size([32, 27]), torch.Size([32, 1]))"
            ]
          },
          "metadata": {},
          "execution_count": 65
        }
      ]
    },
    {
      "cell_type": "code",
      "source": [
        "# backward pass\n",
        "\n",
        "\n",
        "dlogits = F.softmax(logits, 1)\n",
        "dlogits[range(n), Yb] -= 1\n",
        "dlogits /= n\n",
        "\n",
        "\n",
        "# My own derivation\n",
        "# dlogits = torch.zeros_like(logits)\n",
        "# count_logits = torch.zeros_like(counts_sum)\n",
        "# for i in range(logits.shape[0]):\n",
        "#   for j in range(logits.shape[1]):\n",
        "#     count_logits[i] += logits[i, j].exp()\n",
        "#   for j in range(logits.shape[1]):\n",
        "#     if j == Yb[i].item():\n",
        "#       dlogits[i, j] = -1.0 * (1 - logits[i, j].exp() / count_logits[i]) / n\n",
        "#     else:\n",
        "#       dlogits[i, j] = -1.0 * (-logits[i, j].exp() / count_logits[i]) / n\n",
        "\n",
        "cmp('logits', dlogits, logits) # I can only get approximate to be true, my maxdiff is 6e-9"
      ],
      "metadata": {
        "colab": {
          "base_uri": "https://localhost:8080/"
        },
        "id": "m_dbaxILyjVd",
        "outputId": "dececa9e-6964-4806-8c1d-628a2bdec7d4"
      },
      "execution_count": 81,
      "outputs": [
        {
          "output_type": "stream",
          "name": "stdout",
          "text": [
            "logits          | exact: False | approximate: True  | maxdiff: 7.2177499532699585e-09\n"
          ]
        }
      ]
    },
    {
      "cell_type": "code",
      "source": [
        "# Exercise 3: backprop through batchnorm but all in one go\n",
        "# to complete this challenge look at the mathematical expression of the output of batchnorm,\n",
        "# take the derivative w.r.t. its input, simplify the expression, and just write it out\n",
        "# BatchNorm paper: https://arxiv.org/abs/1502.03167\n",
        "\n",
        "# forward pass\n",
        "\n",
        "# before:\n",
        "# bnmeani = 1/n*hprebn.sum(0, keepdim=True)\n",
        "# bndiff = hprebn - bnmeani\n",
        "# bndiff2 = bndiff**2\n",
        "# bnvar = 1/(n-1)*(bndiff2).sum(0, keepdim=True) # note: Bessel's correction (dividing by n-1, not n)\n",
        "# bnvar_inv = (bnvar + 1e-5)**-0.5\n",
        "# bnraw = bndiff * bnvar_inv\n",
        "# hpreact = bngain * bnraw + bnbias\n",
        "\n",
        "# now:\n",
        "hpreact_fast = bngain * (hprebn - hprebn.mean(0, keepdim=True)) / torch.sqrt(hprebn.var(0, keepdim=True, unbiased=True) + 1e-5) + bnbias\n",
        "print('max diff:', (hpreact_fast - hpreact).abs().max())"
      ],
      "metadata": {
        "id": "0kzXNNhdyBrz"
      },
      "execution_count": null,
      "outputs": []
    },
    {
      "cell_type": "code",
      "source": [
        "hpreact.shape, hprebn.shape, hprebn.mean(0, keepdim=True).shape"
      ],
      "metadata": {
        "colab": {
          "base_uri": "https://localhost:8080/"
        },
        "id": "jbOSu4-hWypa",
        "outputId": "c401bf08-b8f2-4cce-9fb2-4c3df9cc4faa"
      },
      "execution_count": 84,
      "outputs": [
        {
          "output_type": "execute_result",
          "data": {
            "text/plain": [
              "(torch.Size([32, 64]), torch.Size([32, 64]), torch.Size([1, 64]))"
            ]
          },
          "metadata": {},
          "execution_count": 84
        }
      ]
    },
    {
      "cell_type": "code",
      "source": [
        "# backward pass\n",
        "\n",
        "# before we had:\n",
        "# dbnraw = bngain * dhpreact\n",
        "# dbndiff = bnvar_inv * dbnraw\n",
        "# dbnvar_inv = (bndiff * dbnraw).sum(0, keepdim=True)\n",
        "# dbnvar = (-0.5*(bnvar + 1e-5)**-1.5) * dbnvar_inv\n",
        "# dbndiff2 = (1.0/(n-1))*torch.ones_like(bndiff2) * dbnvar\n",
        "# dbndiff += (2*bndiff) * dbndiff2\n",
        "# dhprebn = dbndiff.clone()\n",
        "# dbnmeani = (-dbndiff).sum(0)\n",
        "# dhprebn += 1.0/n * (torch.ones_like(hprebn) * dbnmeani)\n",
        "\n",
        "# calculate dhprebn given dhpreact (i.e. backprop through the batchnorm)\n",
        "# (you'll also need to use some of the variables from the forward pass up above)\n",
        "\n",
        "dhprebn = bngain*bnvar_inv/n * (n*dhpreact - dhpreact.sum(0) - n/(n-1)*bnraw*(dhpreact*bnraw).sum(0))\n",
        "\n",
        "# My implementation (it's incorrect)\n",
        "# var = 1 / torch.sqrt(hprebn.var(0, keepdim=True, unbiased=True) + 1e-5)\n",
        "# dhprebn = bngain * (bnvar_inv * (dhpreact - dhpreact.sum(0) / n) - (1/n-1) * (bnvar_inv)**3 * bndiff**2 * (dhpreact - dhpreact.sum(0) / n))\n",
        "\n",
        "cmp('hprebn', dhprebn, hprebn) # I can only get approximate to be true, my maxdiff is 9e-10"
      ],
      "metadata": {
        "colab": {
          "base_uri": "https://localhost:8080/"
        },
        "id": "jyCFMR_vyG0M",
        "outputId": "47f9e660-07d5-4337-d7c3-1fd8f08d74b5"
      },
      "execution_count": 119,
      "outputs": [
        {
          "output_type": "stream",
          "name": "stdout",
          "text": [
            "hprebn          | exact: False | approximate: True  | maxdiff: 9.313225746154785e-10\n"
          ]
        }
      ]
    },
    {
      "cell_type": "code",
      "source": [
        "# Exercise 4: putting it all together!\n",
        "# Train the MLP neural net with your own backward pass\n",
        "\n",
        "# init\n",
        "n_embd = 10 # the dimensionality of the character embedding vectors\n",
        "n_hidden = 200 # the number of neurons in the hidden layer of the MLP\n",
        "\n",
        "g = torch.Generator().manual_seed(2147483647) # for reproducibility\n",
        "C  = torch.randn((vocab_size, n_embd),            generator=g)\n",
        "# Layer 1\n",
        "W1 = torch.randn((n_embd * block_size, n_hidden), generator=g) * (5/3)/((n_embd * block_size)**0.5)\n",
        "b1 = torch.randn(n_hidden,                        generator=g) * 0.1\n",
        "# Layer 2\n",
        "W2 = torch.randn((n_hidden, vocab_size),          generator=g) * 0.1\n",
        "b2 = torch.randn(vocab_size,                      generator=g) * 0.1\n",
        "# BatchNorm parameters\n",
        "bngain = torch.randn((1, n_hidden))*0.1 + 1.0\n",
        "bnbias = torch.randn((1, n_hidden))*0.1\n",
        "\n",
        "parameters = [C, W1, b1, W2, b2, bngain, bnbias]\n",
        "print(sum(p.nelement() for p in parameters)) # number of parameters in total\n",
        "for p in parameters:\n",
        "  p.requires_grad = True\n",
        "\n",
        "# same optimization as last time\n",
        "max_steps = 200000\n",
        "batch_size = 32\n",
        "n = batch_size # convenience\n",
        "lossi = []\n",
        "\n",
        "# use this context manager for efficiency once your backward pass is written (TODO)\n",
        "with torch.no_grad():\n",
        "  for i in range(max_steps):\n",
        "\n",
        "    # minibatch construct\n",
        "    ix = torch.randint(0, Xtr.shape[0], (batch_size,), generator=g)\n",
        "    Xb, Yb = Xtr[ix], Ytr[ix] # batch X,Y\n",
        "\n",
        "    # forward pass\n",
        "    emb = C[Xb] # embed the characters into vectors\n",
        "    embcat = emb.view(emb.shape[0], -1) # concatenate the vectors\n",
        "    # Linear layer\n",
        "    hprebn = embcat @ W1 + b1 # hidden layer pre-activation\n",
        "    # BatchNorm layer\n",
        "    # -------------------------------------------------------------\n",
        "    bnmean = hprebn.mean(0, keepdim=True)\n",
        "    bnvar = hprebn.var(0, keepdim=True, unbiased=True)\n",
        "    bnvar_inv = (bnvar + 1e-5)**-0.5\n",
        "    bnraw = (hprebn - bnmean) * bnvar_inv\n",
        "    hpreact = bngain * bnraw + bnbias\n",
        "    # -------------------------------------------------------------\n",
        "    # Non-linearity\n",
        "    h = torch.tanh(hpreact) # hidden layer\n",
        "    logits = h @ W2 + b2 # output layer\n",
        "    loss = F.cross_entropy(logits, Yb) # loss function\n",
        "\n",
        "    # backward pass\n",
        "    for p in parameters:\n",
        "      p.grad = None\n",
        "    # loss.backward() # use this for correctness comparisons, delete it later!\n",
        "\n",
        "    # manual backprop! #swole_doge_meme\n",
        "    # -----------------\n",
        "    dlogits = F.softmax(logits, 1)\n",
        "    dlogits[range(n), Yb] -= 1\n",
        "    dlogits /= n\n",
        "\n",
        "    # Derive this in your notebook\n",
        "    dh = dlogits @ W2.T\n",
        "    dW2 = h.T @ dlogits\n",
        "    db2 = dlogits.sum(0, keepdim=True)\n",
        "    dhpreact = (1.0 - h**2) * dh\n",
        "    dbngain = (bnraw * dhpreact).sum(0, keepdim=True)\n",
        "    dbnbias = dhpreact.sum(0, keepdim=True)\n",
        "    dhprebn = bngain*bnvar_inv/n * (n*dhpreact - dhpreact.sum(0) - n/(n-1)*bnraw*(dhpreact*bnraw).sum(0))\n",
        "\n",
        "    dembcat = dhprebn @ W1.T\n",
        "    dW1 = embcat.T @ dhprebn\n",
        "    db1 = dhprebn.sum(0, keepdim=True)\n",
        "    demb = dembcat.view(dembcat.shape[0], block_size, -1)\n",
        "    dC = torch.zeros(27, 10)\n",
        "    for k in range(n):\n",
        "      for j in range(block_size):\n",
        "        dC[Xb[k, j]] += demb[k, j]\n",
        "    grads = [dC, dW1, db1, dW2, db2, dbngain, dbnbias]\n",
        "    # -----------------\n",
        "\n",
        "    # update\n",
        "    lr = 0.1 if i < 100000 else 0.01 # step learning rate decay\n",
        "    for p, grad in zip(parameters, grads):\n",
        "      # print(p.data.shape, grad.shape)\n",
        "      # p.data += -lr * p.grad # old way of cheems doge (using PyTorch grad from .backward())\n",
        "      p.data += -lr * grad.reshape(p.data.shape) # new way of swole doge TODO: enable\n",
        "\n",
        "    # track stats\n",
        "    if i % 1000 == 0: # print every once in a while\n",
        "      print(f'{i:7d}/{max_steps:7d}: {loss.item():.4f}')\n",
        "    lossi.append(loss.log10().item())\n",
        "\n",
        "    # if i >= 100: # TODO: delete early breaking when you're ready to train the full net\n",
        "    #   break"
      ],
      "metadata": {
        "colab": {
          "base_uri": "https://localhost:8080/"
        },
        "id": "bSfmQ-GHlsF3",
        "outputId": "016604de-8e91-4353-dfd2-c6a992aa906b"
      },
      "execution_count": 137,
      "outputs": [
        {
          "output_type": "stream",
          "name": "stdout",
          "text": [
            "12297\n",
            "      0/ 200000: 3.7606\n",
            "   1000/ 200000: 2.2492\n",
            "   2000/ 200000: 2.3159\n",
            "   3000/ 200000: 2.2250\n",
            "   4000/ 200000: 2.1815\n",
            "   5000/ 200000: 2.3009\n",
            "   6000/ 200000: 2.1193\n",
            "   7000/ 200000: 2.4545\n",
            "   8000/ 200000: 2.0129\n",
            "   9000/ 200000: 2.2072\n",
            "  10000/ 200000: 2.1911\n",
            "  11000/ 200000: 1.8983\n",
            "  12000/ 200000: 2.2456\n",
            "  13000/ 200000: 2.2315\n",
            "  14000/ 200000: 2.6665\n",
            "  15000/ 200000: 2.1108\n",
            "  16000/ 200000: 2.5248\n",
            "  17000/ 200000: 2.2598\n",
            "  18000/ 200000: 1.9991\n",
            "  19000/ 200000: 2.4408\n",
            "  20000/ 200000: 2.3561\n",
            "  21000/ 200000: 2.5189\n",
            "  22000/ 200000: 1.8896\n",
            "  23000/ 200000: 2.0142\n",
            "  24000/ 200000: 2.6463\n",
            "  25000/ 200000: 2.2877\n",
            "  26000/ 200000: 2.3170\n",
            "  27000/ 200000: 2.3739\n",
            "  28000/ 200000: 2.0523\n",
            "  29000/ 200000: 2.6577\n",
            "  30000/ 200000: 2.4419\n",
            "  31000/ 200000: 2.2173\n",
            "  32000/ 200000: 2.2784\n",
            "  33000/ 200000: 2.2565\n",
            "  34000/ 200000: 1.9544\n",
            "  35000/ 200000: 2.3716\n",
            "  36000/ 200000: 2.1544\n",
            "  37000/ 200000: 2.0458\n",
            "  38000/ 200000: 2.6629\n",
            "  39000/ 200000: 2.1023\n",
            "  40000/ 200000: 2.0036\n",
            "  41000/ 200000: 2.2066\n",
            "  42000/ 200000: 2.2760\n",
            "  43000/ 200000: 2.3299\n",
            "  44000/ 200000: 1.9317\n",
            "  45000/ 200000: 1.8417\n",
            "  46000/ 200000: 2.2736\n",
            "  47000/ 200000: 2.1039\n",
            "  48000/ 200000: 2.5912\n",
            "  49000/ 200000: 1.9106\n",
            "  50000/ 200000: 2.3819\n",
            "  51000/ 200000: 2.6931\n",
            "  52000/ 200000: 2.3421\n",
            "  53000/ 200000: 2.4038\n",
            "  54000/ 200000: 2.1888\n",
            "  55000/ 200000: 1.9806\n",
            "  56000/ 200000: 2.0198\n",
            "  57000/ 200000: 1.6820\n",
            "  58000/ 200000: 1.6870\n",
            "  59000/ 200000: 2.4198\n",
            "  60000/ 200000: 2.4268\n",
            "  61000/ 200000: 2.3233\n",
            "  62000/ 200000: 2.5855\n",
            "  63000/ 200000: 2.1769\n",
            "  64000/ 200000: 2.2253\n",
            "  65000/ 200000: 2.0446\n",
            "  66000/ 200000: 2.4825\n",
            "  67000/ 200000: 2.4881\n",
            "  68000/ 200000: 1.9098\n",
            "  69000/ 200000: 2.0891\n",
            "  70000/ 200000: 1.9636\n",
            "  71000/ 200000: 2.2459\n",
            "  72000/ 200000: 2.5191\n",
            "  73000/ 200000: 2.3918\n",
            "  74000/ 200000: 1.7893\n",
            "  75000/ 200000: 2.4614\n",
            "  76000/ 200000: 1.7055\n",
            "  77000/ 200000: 2.3133\n",
            "  78000/ 200000: 2.3425\n",
            "  79000/ 200000: 2.2273\n",
            "  80000/ 200000: 2.3837\n",
            "  81000/ 200000: 1.9918\n",
            "  82000/ 200000: 2.3375\n",
            "  83000/ 200000: 1.8920\n",
            "  84000/ 200000: 2.3595\n",
            "  85000/ 200000: 2.1362\n",
            "  86000/ 200000: 2.1526\n",
            "  87000/ 200000: 2.1076\n",
            "  88000/ 200000: 2.3350\n",
            "  89000/ 200000: 2.1701\n",
            "  90000/ 200000: 2.1328\n",
            "  91000/ 200000: 2.0026\n",
            "  92000/ 200000: 2.3606\n",
            "  93000/ 200000: 1.7066\n",
            "  94000/ 200000: 2.0054\n",
            "  95000/ 200000: 2.0080\n",
            "  96000/ 200000: 1.9810\n",
            "  97000/ 200000: 2.4338\n",
            "  98000/ 200000: 2.0502\n",
            "  99000/ 200000: 2.0635\n",
            " 100000/ 200000: 1.9408\n",
            " 101000/ 200000: 1.6776\n",
            " 102000/ 200000: 2.2010\n",
            " 103000/ 200000: 2.0653\n",
            " 104000/ 200000: 2.2683\n",
            " 105000/ 200000: 2.1000\n",
            " 106000/ 200000: 2.1894\n",
            " 107000/ 200000: 2.0216\n",
            " 108000/ 200000: 2.0487\n",
            " 109000/ 200000: 2.2282\n",
            " 110000/ 200000: 2.4255\n",
            " 111000/ 200000: 2.2119\n",
            " 112000/ 200000: 1.9348\n",
            " 113000/ 200000: 2.3067\n",
            " 114000/ 200000: 2.0152\n",
            " 115000/ 200000: 2.1359\n",
            " 116000/ 200000: 2.1245\n",
            " 117000/ 200000: 2.3606\n",
            " 118000/ 200000: 2.3097\n",
            " 119000/ 200000: 2.2224\n",
            " 120000/ 200000: 2.0181\n",
            " 121000/ 200000: 2.2697\n",
            " 122000/ 200000: 2.1667\n",
            " 123000/ 200000: 2.3726\n",
            " 124000/ 200000: 2.7195\n",
            " 125000/ 200000: 2.0109\n",
            " 126000/ 200000: 2.2158\n",
            " 127000/ 200000: 2.1921\n",
            " 128000/ 200000: 2.3909\n",
            " 129000/ 200000: 2.3459\n",
            " 130000/ 200000: 2.3834\n",
            " 131000/ 200000: 1.8255\n",
            " 132000/ 200000: 1.8745\n",
            " 133000/ 200000: 2.2526\n",
            " 134000/ 200000: 2.1229\n",
            " 135000/ 200000: 2.0313\n",
            " 136000/ 200000: 2.0263\n",
            " 137000/ 200000: 2.0557\n",
            " 138000/ 200000: 2.0568\n",
            " 139000/ 200000: 1.9737\n",
            " 140000/ 200000: 2.2644\n",
            " 141000/ 200000: 1.7947\n",
            " 142000/ 200000: 2.1072\n",
            " 143000/ 200000: 2.3147\n",
            " 144000/ 200000: 1.9932\n",
            " 145000/ 200000: 2.2281\n",
            " 146000/ 200000: 2.2229\n",
            " 147000/ 200000: 2.2367\n",
            " 148000/ 200000: 2.4439\n",
            " 149000/ 200000: 2.2630\n",
            " 150000/ 200000: 2.1546\n",
            " 151000/ 200000: 2.2810\n",
            " 152000/ 200000: 1.8799\n",
            " 153000/ 200000: 2.2612\n",
            " 154000/ 200000: 2.2931\n",
            " 155000/ 200000: 2.0796\n",
            " 156000/ 200000: 1.9258\n",
            " 157000/ 200000: 2.1194\n",
            " 158000/ 200000: 2.0337\n",
            " 159000/ 200000: 2.1925\n",
            " 160000/ 200000: 2.0223\n",
            " 161000/ 200000: 2.0848\n",
            " 162000/ 200000: 1.7850\n",
            " 163000/ 200000: 2.0210\n",
            " 164000/ 200000: 2.1946\n",
            " 165000/ 200000: 2.4519\n",
            " 166000/ 200000: 2.2684\n",
            " 167000/ 200000: 2.3135\n",
            " 168000/ 200000: 1.9519\n",
            " 169000/ 200000: 2.2601\n",
            " 170000/ 200000: 1.8739\n",
            " 171000/ 200000: 2.1767\n",
            " 172000/ 200000: 1.9915\n",
            " 173000/ 200000: 2.1944\n",
            " 174000/ 200000: 2.3478\n",
            " 175000/ 200000: 2.0793\n",
            " 176000/ 200000: 1.8400\n",
            " 177000/ 200000: 2.0169\n",
            " 178000/ 200000: 1.8065\n",
            " 179000/ 200000: 2.1630\n",
            " 180000/ 200000: 1.9699\n",
            " 181000/ 200000: 2.1573\n",
            " 182000/ 200000: 2.2738\n",
            " 183000/ 200000: 2.2938\n",
            " 184000/ 200000: 2.4803\n",
            " 185000/ 200000: 2.2408\n",
            " 186000/ 200000: 1.8711\n",
            " 187000/ 200000: 1.7151\n",
            " 188000/ 200000: 2.1548\n",
            " 189000/ 200000: 2.3603\n",
            " 190000/ 200000: 1.8800\n",
            " 191000/ 200000: 2.0529\n",
            " 192000/ 200000: 2.2331\n",
            " 193000/ 200000: 1.9884\n",
            " 194000/ 200000: 2.0115\n",
            " 195000/ 200000: 2.2524\n",
            " 196000/ 200000: 2.1586\n",
            " 197000/ 200000: 2.0915\n",
            " 198000/ 200000: 1.9592\n",
            " 199000/ 200000: 1.6807\n"
          ]
        }
      ]
    },
    {
      "cell_type": "code",
      "source": [
        "# useful for checking your gradients\n",
        "# for p,g in zip(parameters, grads):\n",
        "#   cmp(str(tuple(p.shape)), g, p)"
      ],
      "metadata": {
        "colab": {
          "base_uri": "https://localhost:8080/"
        },
        "id": "KBCQg-M1yoZ7",
        "outputId": "2132df7c-6408-4479-df30-f6691559cc2c"
      },
      "execution_count": 125,
      "outputs": [
        {
          "output_type": "stream",
          "name": "stdout",
          "text": [
            "(27, 10)        | exact: False | approximate: True  | maxdiff: 1.862645149230957e-08\n",
            "(30, 200)       | exact: False | approximate: True  | maxdiff: 7.450580596923828e-09\n",
            "(200,)          | exact: False | approximate: True  | maxdiff: 4.4674379751086235e-09\n",
            "(200, 27)       | exact: False | approximate: True  | maxdiff: 1.1175870895385742e-08\n",
            "(27,)           | exact: False | approximate: True  | maxdiff: 7.450580596923828e-09\n",
            "(1, 200)        | exact: False | approximate: True  | maxdiff: 3.725290298461914e-09\n",
            "(1, 200)        | exact: False | approximate: True  | maxdiff: 7.450580596923828e-09\n"
          ]
        }
      ]
    },
    {
      "cell_type": "code",
      "source": [
        "# calibrate the batch norm at the end of training\n",
        "\n",
        "with torch.no_grad():\n",
        "  # pass the training set through\n",
        "  emb = C[Xtr]\n",
        "  embcat = emb.view(emb.shape[0], -1)\n",
        "  hpreact = embcat @ W1 + b1\n",
        "  # measure the mean/std over the entire training set\n",
        "  bnmean = hpreact.mean(0, keepdim=True)\n",
        "  bnvar = hpreact.var(0, keepdim=True, unbiased=True)\n"
      ],
      "metadata": {
        "id": "yi6yYL8ByrD_"
      },
      "execution_count": 138,
      "outputs": []
    },
    {
      "cell_type": "code",
      "source": [
        "# evaluate train and val loss\n",
        "\n",
        "@torch.no_grad() # this decorator disables gradient tracking\n",
        "def split_loss(split):\n",
        "  x,y = {\n",
        "    'train': (Xtr, Ytr),\n",
        "    'val': (Xval, Yval),\n",
        "    'test': (Xte, Yte),\n",
        "  }[split]\n",
        "  emb = C[x] # (N, block_size, n_embd)\n",
        "  embcat = emb.view(emb.shape[0], -1) # concat into (N, block_size * n_embd)\n",
        "  hpreact = embcat @ W1 + b1\n",
        "  hpreact = bngain * (hpreact - bnmean) * (bnvar + 1e-5)**-0.5 + bnbias\n",
        "  h = torch.tanh(hpreact) # (N, n_hidden)\n",
        "  logits = h @ W2 + b2 # (N, vocab_size)\n",
        "  loss = F.cross_entropy(logits, y)\n",
        "  print(split, loss.item())\n",
        "\n",
        "split_loss('train')\n",
        "split_loss('val')"
      ],
      "metadata": {
        "colab": {
          "base_uri": "https://localhost:8080/"
        },
        "id": "RXMZnJMoyuLd",
        "outputId": "36a22972-8a16-42e1-a40f-98ec642c3041"
      },
      "execution_count": 139,
      "outputs": [
        {
          "output_type": "stream",
          "name": "stdout",
          "text": [
            "train 2.072206735610962\n",
            "val 2.1094493865966797\n"
          ]
        }
      ]
    },
    {
      "cell_type": "code",
      "source": [
        "# I achieved:\n",
        "# train 2.0718822479248047\n",
        "# val 2.1162495613098145"
      ],
      "metadata": {
        "id": "NIupLGaEy7-j"
      },
      "execution_count": null,
      "outputs": []
    },
    {
      "cell_type": "code",
      "source": [
        "# sample from the model\n",
        "g = torch.Generator().manual_seed(2147483647 + 10)\n",
        "\n",
        "for _ in range(20):\n",
        "    \n",
        "    out = []\n",
        "    context = [0] * block_size # initialize with all ...\n",
        "    while True:\n",
        "      # forward pass\n",
        "      emb = C[torch.tensor([context])] # (1,block_size,d)      \n",
        "      embcat = emb.view(emb.shape[0], -1) # concat into (N, block_size * n_embd)\n",
        "      hpreact = embcat @ W1 + b1\n",
        "      hpreact = bngain * (hpreact - bnmean) * (bnvar + 1e-5)**-0.5 + bnbias\n",
        "      h = torch.tanh(hpreact) # (N, n_hidden)\n",
        "      logits = h @ W2 + b2 # (N, vocab_size)\n",
        "      # sample\n",
        "      probs = F.softmax(logits, dim=1)\n",
        "      ix = torch.multinomial(probs, num_samples=1, generator=g).item()\n",
        "      context = context[1:] + [ix]\n",
        "      out.append(ix)\n",
        "      if ix == 0:\n",
        "        break\n",
        "    \n",
        "    print(''.join(itos[i] for i in out))"
      ],
      "metadata": {
        "colab": {
          "base_uri": "https://localhost:8080/"
        },
        "id": "ips6w3ntlh0S",
        "outputId": "5f132245-77fa-4bda-ca28-4dff53368570"
      },
      "execution_count": 140,
      "outputs": [
        {
          "output_type": "stream",
          "name": "stdout",
          "text": [
            "mora.\n",
            "mayah.\n",
            "seel.\n",
            "ndon.\n",
            "alerethruthadraeg.\n",
            "adelynnelin.\n",
            "shi.\n",
            "jen.\n",
            "eden.\n",
            "sana.\n",
            "arleigh.\n",
            "malaia.\n",
            "noshubergihimie.\n",
            "trickennellennie.\n",
            "cayus.\n",
            "macder.\n",
            "yarulyeh.\n",
            "yuma.\n",
            "mys.\n",
            "kyla.\n"
          ]
        }
      ]
    }
  ]
}